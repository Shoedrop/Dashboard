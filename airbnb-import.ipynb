{
 "cells": [
  {
   "cell_type": "markdown",
   "metadata": {},
   "source": [
    "# Import Airbnb data"
   ]
  },
  {
   "cell_type": "markdown",
   "metadata": {},
   "source": [
    "## Import neccessary packages, modules and credentials"
   ]
  },
  {
   "cell_type": "code",
   "execution_count": 11,
   "metadata": {},
   "outputs": [],
   "source": [
    "import requests\n",
    "import pandas as pd\n",
    "import psycopg2\n",
    "from sqlalchemy import create_engine\n",
    "from credentials import host, port, user, password, dbname_raw, table_name, Google_API_KEY"
   ]
  },
  {
   "cell_type": "markdown",
   "metadata": {},
   "source": [
    "## Ping Database to test connection"
   ]
  },
  {
   "cell_type": "code",
   "execution_count": 12,
   "metadata": {},
   "outputs": [
    {
     "name": "stdout",
     "output_type": "stream",
     "text": [
      "Successfully connected to the database.\n"
     ]
    }
   ],
   "source": [
    "def ping_db(host, port, dbname, user, password):\n",
    "    \"\"\"\n",
    "    Test connection to the PostgreSQL database\n",
    "    \"\"\"\n",
    "    try:\n",
    "        # Create a connection\n",
    "        conn = psycopg2.connect(\n",
    "            dbname=dbname,\n",
    "            user=user,\n",
    "            password=password,\n",
    "            host=host,\n",
    "            port=port\n",
    "        )\n",
    "        # Create a cursor object\n",
    "        cur = conn.cursor()\n",
    "        # Execute a simple query\n",
    "        cur.execute(\"SELECT 1\")\n",
    "        # Close the cursor and connection\n",
    "        cur.close()\n",
    "        conn.close()\n",
    "        print(\"Successfully connected to the database.\")\n",
    "    except Exception as e:\n",
    "        print(f\"Error connecting to the database: {e}\")\n",
    "        return False\n",
    "\n",
    "ping_db(host, port, dbname_raw, user, password)"
   ]
  },
  {
   "cell_type": "markdown",
   "metadata": {},
   "source": [
    "## Load the data from the csv file into a dataframe"
   ]
  },
  {
   "cell_type": "code",
   "execution_count": 13,
   "metadata": {},
   "outputs": [],
   "source": [
    "# Specify the path to the CSV file\n",
    "csv_file = '../cbs-dmv-final-assignment/data/AirBnbListings.csv'\n",
    "\n",
    "# Load the CSV file into a DataFrame\n",
    "df = pd.read_csv(csv_file)"
   ]
  },
  {
   "cell_type": "markdown",
   "metadata": {},
   "source": [
    "## Define the relevant functions for the neighborhood calculations based on the Google API"
   ]
  },
  {
   "cell_type": "code",
   "execution_count": 14,
   "metadata": {},
   "outputs": [],
   "source": [
    "run_count = 0\n",
    "\n",
    "def get_neighborhood(latitude, longitude):\n",
    "    # global run_count\n",
    "    # run_count += 1\n",
    "    # print(f\"Run count: {run_count}\")\n",
    "    url = f\"https://maps.googleapis.com/maps/api/geocode/json?latlng={latitude},{longitude}&key={Google_API_KEY}\"\n",
    "    try:\n",
    "        response = requests.get(url)\n",
    "        if response.status_code == 200:\n",
    "            results = response.json()['results']\n",
    "            if results:\n",
    "                # Try different components if 'neighborhood' is not found\n",
    "                address_components = results[0]['address_components']\n",
    "                for component in address_components:\n",
    "                    if 'neighborhood' in component['types']:\n",
    "                        return component['long_name']\n",
    "                    elif 'sublocality' in component['types']:\n",
    "                        return component['long_name']\n",
    "                    elif 'locality' in component['types']:\n",
    "                        return component['long_name']\n",
    "        else:\n",
    "            print(f\"Error fetching data for {latitude}, {longitude}: {response.status_code}\")\n",
    "    except Exception as e:\n",
    "        print(f\"Error fetching data for {latitude}, {longitude}: {e}\")\n",
    "        return 'Unknown_Neighborhood'\n",
    "\n",
    "# Function to categorize neighborhoods\n",
    "def categorize_neighborhood(neighborhood):\n",
    "    if neighborhood in ['København C', 'Indre By', 'København K']:\n",
    "        return 'København K'\n",
    "    elif neighborhood in ['København V', 'Vesterbro']:\n",
    "        return 'København V'\n",
    "    elif neighborhood in ['København N', 'Nørrebro']:\n",
    "        return 'København N'\n",
    "    elif neighborhood in ['København S', 'København s', 'Amager', 'Amagerbro', 'Amager Øst', 'Amager Vest']:\n",
    "        return 'København S'\n",
    "    elif neighborhood in ['København Ø', 'Østerbro']:\n",
    "        return 'København Ø'\n",
    "    elif neighborhood in ['Frederiksberg C', 'Frederiksberg']:\n",
    "        return 'Frederiksberg'\n",
    "    elif neighborhood in ['København', 'Copenhagen']:\n",
    "        return 'Unknown_Neighborhood'\n",
    "    elif pd.isna(neighborhood) or neighborhood == 'Not Found':\n",
    "        return 'Unknown_Neighborhood'\n",
    "    else:\n",
    "        return neighborhood"
   ]
  },
  {
   "cell_type": "markdown",
   "metadata": {},
   "source": [
    "## Apply the functions onto the dataframe and check the output"
   ]
  },
  {
   "cell_type": "code",
   "execution_count": 15,
   "metadata": {},
   "outputs": [
    {
     "name": "stdout",
     "output_type": "stream",
     "text": [
      "Fetching neighborhood data...\n"
     ]
    },
    {
     "data": {
      "text/plain": [
       "API_Neighborhood\n",
       "København N             1958\n",
       "København S             1955\n",
       "København V             1691\n",
       "København K             1615\n",
       "København Ø             1462\n",
       "Frederiksberg           1253\n",
       "København NV             493\n",
       "Valby                    473\n",
       "København SV             420\n",
       "Vanløse                  259\n",
       "Brønshøj-Husum           221\n",
       "Unknown_Neighborhood     135\n",
       "Hellerup                 120\n",
       "Kastrup                  103\n",
       "Hvidovre                  83\n",
       "Søborg                    79\n",
       "Rødovre                   67\n",
       "Bispebjerg                38\n",
       "Dyssegård                 30\n",
       "Herlev                    24\n",
       "Gentofte                  16\n",
       "Name: count, dtype: int64"
      ]
     },
     "execution_count": 15,
     "metadata": {},
     "output_type": "execute_result"
    }
   ],
   "source": [
    "# Please only run this cell if really necessary. Otherwise it will use up all the Google API credits.\n",
    "print(\"Fetching neighborhood data...\")\n",
    "df['API_Neighborhood'] = df.apply(lambda row: get_neighborhood(row['latitude'], row['longitude']), axis=1)\n",
    "df['API_Neighborhood'] = df['API_Neighborhood'].apply(categorize_neighborhood)\n",
    "df['API_Neighborhood'].value_counts()"
   ]
  },
  {
   "cell_type": "markdown",
   "metadata": {},
   "source": [
    "## Write the dataframe to the PostgreSQL database"
   ]
  },
  {
   "cell_type": "code",
   "execution_count": 16,
   "metadata": {},
   "outputs": [
    {
     "name": "stdout",
     "output_type": "stream",
     "text": [
      "Data has been written to the raw database.\n"
     ]
    }
   ],
   "source": [
    "try:\n",
    "    # Create a SQLAlchemy engine\n",
    "    engine = create_engine(f'postgresql://{user}:{password}@{host}:{port}/{dbname_raw}')\n",
    "\n",
    "    # Write the DataFrame to the database table\n",
    "    df.to_sql(table_name, engine, if_exists='replace', index=False)\n",
    "\n",
    "    # Confirm the data has been written to the raw database\n",
    "    print(\"Data has been written to the raw database.\")\n",
    "except Exception as e:\n",
    "    print(f\"Error writing data to the database: {e}\")"
   ]
  }
 ],
 "metadata": {
  "kernelspec": {
   "display_name": "Python 3",
   "language": "python",
   "name": "python3"
  },
  "language_info": {
   "codemirror_mode": {
    "name": "ipython",
    "version": 3
   },
   "file_extension": ".py",
   "mimetype": "text/x-python",
   "name": "python",
   "nbconvert_exporter": "python",
   "pygments_lexer": "ipython3",
   "version": "3.1.0"
  }
 },
 "nbformat": 4,
 "nbformat_minor": 2
}
